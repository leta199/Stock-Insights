{
 "cells": [
  {
   "cell_type": "markdown",
   "id": "78309a6b",
   "metadata": {},
   "source": [
    "# STOCK TRACKER  \n",
    "Stocks form a large percenatge of investment portfolios for most people. In order to make intelligent investment decions, one must know historic data about these stocks. This allows one to maximise their returns and invest wisely. I aim to utilise web scraping to track the historic prices of stocks. \n",
    "\n",
    "### STEP 1\n",
    "I delve into the yfinance package and matplotlib to gain a better grasp of tickers as well as graphing in Python. \n",
    "This involves a basic understanding of our modules and libraries as well as how to transform and extract necessary data. \n",
    "I will then evolve upon this to webscrape to visualise data. "
   ]
  },
  {
   "cell_type": "code",
   "execution_count": null,
   "id": "aaa28da9",
   "metadata": {},
   "outputs": [],
   "source": [
    "#INSTALL NECESSARY PACKAGES TO MANAGE APIS \n",
    "%pip install yfinance\n",
    "%pip install matplotlib"
   ]
  },
  {
   "cell_type": "code",
   "execution_count": null,
   "id": "4a5840a1",
   "metadata": {},
   "outputs": [],
   "source": [
    "import yfinance as yf\n",
    "import pandas as pd \n"
   ]
  },
  {
   "cell_type": "code",
   "execution_count": null,
   "id": "14a0bdd2",
   "metadata": {},
   "outputs": [],
   "source": [
    "#EXTRACTING DATA REGARDING AMD STOCK \n",
    "amd=yf.Ticker('AMD') #using ticker method to gather information on AMD stock\n",
    "amd_info=amd.info #retrieves infomration from ticker as dictionary \n",
    "print(amd_info)\n"
   ]
  },
  {
   "cell_type": "code",
   "execution_count": null,
   "id": "15d280af",
   "metadata": {},
   "outputs": [],
   "source": [
    "#CAPTURE STOCK PRICE HISTORY AS DATAFRAME \n",
    "amd_stock_price=amd.history(period=\"max\") #retrieves only the history of stock prices as dataframe \n",
    "amd_stock_price.head() #shows first few columns of stock price dataframe "
   ]
  },
  {
   "cell_type": "code",
   "execution_count": null,
   "id": "5a7ae4b3",
   "metadata": {},
   "outputs": [],
   "source": [
    "#CHANGING INDEX OF DATAFRAME \n",
    "amd_stock_price.reset_index(inplace=True) #resets index of dataframe back to integer and applies transformation to original dataframe\n"
   ]
  },
  {
   "cell_type": "code",
   "execution_count": null,
   "id": "27456a67",
   "metadata": {},
   "outputs": [],
   "source": [
    "#PLOTTING STOCK PRICES OVER TIME \n",
    "amd_stock_price.plot(x='Date', y = 'Open') #plots historic stock price over time as line graph "
   ]
  }
 ],
 "metadata": {
  "kernelspec": {
   "display_name": ".venv (3.13.5)",
   "language": "python",
   "name": "python3"
  },
  "language_info": {
   "codemirror_mode": {
    "name": "ipython",
    "version": 3
   },
   "file_extension": ".py",
   "mimetype": "text/x-python",
   "name": "python",
   "nbconvert_exporter": "python",
   "pygments_lexer": "ipython3",
   "version": "3.13.5"
  }
 },
 "nbformat": 4,
 "nbformat_minor": 5
}
